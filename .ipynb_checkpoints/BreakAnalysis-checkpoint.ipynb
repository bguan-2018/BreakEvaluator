{
 "cells": [
  {
   "cell_type": "code",
   "execution_count": 16,
   "metadata": {
    "scrolled": true
   },
   "outputs": [],
   "source": [
    "import json\n",
    "\n",
    "class JsonFileHandler():\n",
    "        \n",
    "    def save(self, data, filename):\n",
    "        with open(filename, 'w') as outfile:\n",
    "            json.dump(data, outfile)\n",
    "            "
   ]
  },
  {
   "cell_type": "code",
   "execution_count": 45,
   "metadata": {
    "scrolled": false
   },
   "outputs": [
    {
     "ename": "AttributeError",
     "evalue": "'list' object has no attribute '_json'",
     "output_type": "error",
     "traceback": [
      "\u001b[0;31m---------------------------------------------------------------------------\u001b[0m",
      "\u001b[0;31mAttributeError\u001b[0m                            Traceback (most recent call last)",
      "\u001b[0;32m<ipython-input-45-7198db3e73ba>\u001b[0m in \u001b[0;36m<module>\u001b[0;34m\u001b[0m\n\u001b[1;32m     60\u001b[0m \u001b[0;31m#     print(break_searcher.tweets)\u001b[0m\u001b[0;34m\u001b[0m\u001b[0;34m\u001b[0m\u001b[0;34m\u001b[0m\u001b[0m\n\u001b[1;32m     61\u001b[0m     \u001b[0mbreak_searcher\u001b[0m\u001b[0;34m.\u001b[0m\u001b[0mextract_user_break_dates\u001b[0m\u001b[0;34m(\u001b[0m\u001b[0;34m)\u001b[0m\u001b[0;34m\u001b[0m\u001b[0;34m\u001b[0m\u001b[0m\n\u001b[0;32m---> 62\u001b[0;31m     \u001b[0mbreak_searcher\u001b[0m\u001b[0;34m.\u001b[0m\u001b[0mextract_user_tweets_after_break\u001b[0m\u001b[0;34m(\u001b[0m\u001b[0;34m)\u001b[0m\u001b[0;34m\u001b[0m\u001b[0;34m\u001b[0m\u001b[0m\n\u001b[0m\u001b[1;32m     63\u001b[0m \u001b[0;31m#     print(break_searcher.user_break_tweet_date)\u001b[0m\u001b[0;34m\u001b[0m\u001b[0;34m\u001b[0m\u001b[0;34m\u001b[0m\u001b[0m\n\u001b[1;32m     64\u001b[0m \u001b[0;31m#     print(break_searcher.user_break_tweet_id)\u001b[0m\u001b[0;34m\u001b[0m\u001b[0;34m\u001b[0m\u001b[0;34m\u001b[0m\u001b[0m\n",
      "\u001b[0;32m<ipython-input-45-7198db3e73ba>\u001b[0m in \u001b[0;36mextract_user_tweets_after_break\u001b[0;34m(self)\u001b[0m\n\u001b[1;32m     52\u001b[0m                 \u001b[0mtweets_after_break\u001b[0m\u001b[0;34m.\u001b[0m\u001b[0mappend\u001b[0m\u001b[0;34m(\u001b[0m\u001b[0mtweet\u001b[0m\u001b[0;34m)\u001b[0m\u001b[0;34m\u001b[0m\u001b[0;34m\u001b[0m\u001b[0m\n\u001b[1;32m     53\u001b[0m \u001b[0;31m#             print(tweets_after_break)\u001b[0m\u001b[0;34m\u001b[0m\u001b[0;34m\u001b[0m\u001b[0;34m\u001b[0m\u001b[0m\n\u001b[0;32m---> 54\u001b[0;31m             \u001b[0mself\u001b[0m\u001b[0;34m.\u001b[0m\u001b[0muser_tweets_after_break\u001b[0m\u001b[0;34m[\u001b[0m\u001b[0muser\u001b[0m\u001b[0;34m]\u001b[0m \u001b[0;34m=\u001b[0m \u001b[0mtweets_after_break\u001b[0m\u001b[0;34m.\u001b[0m\u001b[0m_json\u001b[0m\u001b[0;34m\u001b[0m\u001b[0;34m\u001b[0m\u001b[0m\n\u001b[0m\u001b[1;32m     55\u001b[0m \u001b[0;34m\u001b[0m\u001b[0m\n\u001b[1;32m     56\u001b[0m \u001b[0;34m\u001b[0m\u001b[0m\n",
      "\u001b[0;31mAttributeError\u001b[0m: 'list' object has no attribute '_json'"
     ]
    }
   ],
   "source": [
    "#Import the necessary methods from tweepy library\n",
    "import tweepy \n",
    "import re\n",
    "import datetime\n",
    "\n",
    "#Variables that contains the user credentials to access Twitter API \n",
    "CONSUMER_KEY = 'Gk01VFusznFm3LkalewiOfA5v'\n",
    "CONSUMER_SECRET = 'Sd3bbCjgj1qL3FDpLPakRYIFnY9292BahmgMshiymvFBbgjb1H'\n",
    "ACCESS_TOKEN = '1240359846219788289-GRJvVirIxaQbGjOG9CRP35bkOXSmHA'\n",
    "ACCESS_TOKEN_SECRET = 'dQzgiPTzIevCUi93mZ1CtozZgKvXDtNjzPJPC4EgCZpba'\n",
    "\n",
    "#This is a basic listener that just prints received tweets to stdout.\n",
    "class BreakUserSearcher():\n",
    "    \n",
    "    def __init__(self):\n",
    "        auth = tweepy.OAuthHandler(CONSUMER_KEY, CONSUMER_SECRET)\n",
    "        auth.set_access_token(ACCESS_TOKEN, ACCESS_TOKEN_SECRET)\n",
    "        self.api = tweepy.API(auth)\n",
    "        self.until_date=datetime.datetime(2020, 1, 1)\n",
    "        self.max_break_tweets = 100\n",
    "        self.max_per_user_tweets_after_break = 10\n",
    "        self.break_query = 'take a break'\n",
    "        self.tweets = {}\n",
    "#     User set\n",
    "        self.user_break_tweet_date = {}\n",
    "        self.user_break_tweet_id = {}\n",
    "        self.user_tweets_after_break = {}\n",
    "        self.user_tweets_break_gap = {}\n",
    "\n",
    "#     collects the tweets that mentioned break\n",
    "    def collect(self):\n",
    "#         Remove Status object\n",
    "#         No one week old tweets will be returned \n",
    "        tweets = tweepy.Cursor(self.api.search, q=self.break_query).items(self.max_break_tweets)\n",
    "        for t in list(tweets):\n",
    "#             print(t)\n",
    "            self.tweets[t.user.screen_name]=t._json\n",
    "        \n",
    "    def extract_user_break_dates(self):\n",
    "        for user, tweet in self.tweets.items():\n",
    "                self.user_break_tweet_date[user] = tweet['created_at']\n",
    "                self.user_break_tweet_id[user] = tweet['id']\n",
    "            \n",
    "    def extract_user_tweets_after_break(self):\n",
    "        for user, break_tweet_id in self.user_break_tweet_id.items():\n",
    "            user_tweets = tweepy.Cursor(self.api.user_timeline, screen_name=user, since_id=break_tweet_id, tweet_mode=\"extended\").items(self.max_per_user_tweets_after_break)\n",
    "            tweets_after_break = []\n",
    "#             print(user_tweets)\n",
    "            for tweet in user_tweets:\n",
    "#                 if self.user_tweets_after_break[user] == None:\n",
    "#                 print(user+': '+str(tweet.created_at))\n",
    "                tweets_after_break.append(tweet._json)\n",
    "#             print(tweets_after_break)\n",
    "            self.user_tweets_after_break[user] = tweets_after_break     \n",
    "            \n",
    "\n",
    "if __name__ == '__main__':\n",
    "    break_searcher = BreakUserSearcher()\n",
    "    break_searcher.collect()\n",
    "#     print(break_searcher.tweets)\n",
    "    break_searcher.extract_user_break_dates()\n",
    "    break_searcher.extract_user_tweets_after_break()\n",
    "#     print(break_searcher.user_break_tweet_date)\n",
    "#     print(break_searcher.user_break_tweet_id)\n",
    "#     print(break_searcher.user_tweets_after_break)\n",
    "\n",
    "    json_file_handler = JsonFileHandler()\n",
    "    json_file_handler.save(break_searcher.tweets, 'break_tweets.json')\n",
    "    json_file_handler.save(break_searcher.user_tweets_after_break, 'break_tweets_after.json')\n",
    "        "
   ]
  },
  {
   "cell_type": "code",
   "execution_count": 66,
   "metadata": {},
   "outputs": [],
   "source": [
    "import tweepy\n",
    "\n",
    "CONSUMER_KEY = 'Gk01VFusznFm3LkalewiOfA5v'\n",
    "CONSUMER_SECRET = 'Sd3bbCjgj1qL3FDpLPakRYIFnY9292BahmgMshiymvFBbgjb1H'\n",
    "ACCESS_TOKEN = '1240359846219788289-GRJvVirIxaQbGjOG9CRP35bkOXSmHA'\n",
    "ACCESS_TOKEN_SECRET = 'dQzgiPTzIevCUi93mZ1CtozZgKvXDtNjzPJPC4EgCZpba'\n",
    "\n",
    "class AgeDetector():\n",
    "    \n",
    "    def __init__(self):\n",
    "        auth = tweepy.OAuthHandler(CONSUMER_KEY, CONSUMER_SECRET)\n",
    "        auth.set_access_token(ACCESS_TOKEN, ACCESS_TOKEN_SECRET)\n",
    "        api = tweepy.API(auth)\n",
    "        \n",
    "    def get_age(self, name):\n",
    "\n",
    "        user = api.get_user(name)\n",
    "        ageTwitterAccount = user.created_at\n",
    "        \n",
    "    def is_over_limit(self, account_age, min_age, max_age):\n",
    "        if min_age <= account_age <= max_age:\n",
    "            return True\n",
    "        else:\n",
    "            return False\n",
    "        \n",
    "    "
   ]
  },
  {
   "cell_type": "code",
   "execution_count": 4,
   "metadata": {},
   "outputs": [],
   "source": [
    "from emotion_predictor import EmotionPredictor\n",
    "\n",
    "class BreakEmotionPredictor():\n",
    "    \n",
    "    def __init__(self):\n",
    "        model = EmotionPredictor(classification='ekman', setting='mc')\n",
    "        \n",
    "    def predict(tweets):\n",
    "        return model.predict_classes(tweets)\n",
    "    "
   ]
  },
  {
   "cell_type": "code",
   "execution_count": null,
   "metadata": {},
   "outputs": [],
   "source": [
    "import re\n",
    "\n",
    "class BreakReasonPredictor():\n",
    "    \n",
    "    PRIVACY_DEFINITION = 'privacy'\n",
    "    MISUSE_DEFINITION = 'data'\n",
    "    UNPRODUCTIVE_DEFINITION = 'unproductive'\n",
    "    BANALITY_DEFINITION = 'bored'\n",
    "    ADDICTION_DEFINITION = 'addict'\n",
    "    PRESSURE_DEFINITION = 'pressure'\n",
    "    \n",
    "    \n",
    "    def predict(tweets):\n",
    "        for tweet in tweets:\n",
    "            if :\n",
    "            else if :\n",
    "            else:\n",
    "                return\n",
    "            "
   ]
  }
 ],
 "metadata": {
  "kernelspec": {
   "display_name": "Python 3",
   "language": "python",
   "name": "python3"
  },
  "language_info": {
   "codemirror_mode": {
    "name": "ipython",
    "version": 3
   },
   "file_extension": ".py",
   "mimetype": "text/x-python",
   "name": "python",
   "nbconvert_exporter": "python",
   "pygments_lexer": "ipython3",
   "version": "3.7.3"
  }
 },
 "nbformat": 4,
 "nbformat_minor": 2
}
