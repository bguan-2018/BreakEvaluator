{
 "cells": [
  {
   "cell_type": "code",
   "execution_count": 11,
   "metadata": {},
   "outputs": [
    {
     "name": "stdout",
     "output_type": "stream",
     "text": [
      "[]\n"
     ]
    }
   ],
   "source": [
    "#Import the necessary methods from tweepy library\n",
    "import tweepy \n",
    "import re\n",
    "\n",
    "#Variables that contains the user credentials to access Twitter API \n",
    "CONSUMER_KEY = 'Gk01VFusznFm3LkalewiOfA5v'\n",
    "CONSUMER_SECRET = 'Sd3bbCjgj1qL3FDpLPakRYIFnY9292BahmgMshiymvFBbgjb1H'\n",
    "ACCESS_TOKEN = '1240359846219788289-GRJvVirIxaQbGjOG9CRP35bkOXSmHA'\n",
    "ACCESS_TOKEN_SECRET = 'dQzgiPTzIevCUi93mZ1CtozZgKvXDtNjzPJPC4EgCZpba'\n",
    "\n",
    "\n",
    "#This is a basic listener that just prints received tweets to stdout.\n",
    "class BreakUserSearcher():\n",
    "    \n",
    "    \n",
    "    \n",
    "    def __init__(self):\n",
    "        auth = tweepy.OAuthHandler(CONSUMER_KEY, CONSUMER_SECRET)\n",
    "        auth.set_access_token(ACCESS_TOKEN, ACCESS_TOKEN_SECRET)\n",
    "        self.api = tweepy.API(auth)\n",
    "        self.max_tweets = 1000;\n",
    "        self.break_query = 'take a break'\n",
    "        self.tweets = []\n",
    "#     User set\n",
    "        self.user_break_dates = {}\n",
    "        self.user_tweets_after_break = {}\n",
    "\n",
    "#     collects the tweets that mentioned break\n",
    "    def collect(self):\n",
    "        tweets=tweepy.Cursor(self.api.search, q=self.break_query).items(self.max_tweets)\n",
    "        \n",
    "    def extract_user_break_dates(self):\n",
    "        for tweet in tweets:\n",
    "            users[tweet.user] = tweet.date\n",
    "            \n",
    "    def extract_user_tweets_after_break(self):\n",
    "        for user, break_date in user_break_dates:\n",
    "            user_tweets = api.user_timeline(user)\n",
    "            tweets_after_break = []\n",
    "            for tweet in user_tweets:\n",
    "                if tweet.created_at > break_date:\n",
    "                    tweets_after_break.append(tweet)\n",
    "            user_tweets_after_break[user] = tweets_after_break        \n",
    "            \n",
    "\n",
    "if __name__ == '__main__':\n",
    "    break_searcher = BreakUserSearcher()\n",
    "    break_searcher.collect()\n",
    "    print(break_searcher.tweets) \n",
    "        "
   ]
  },
  {
   "cell_type": "code",
   "execution_count": null,
   "metadata": {},
   "outputs": [],
   "source": [
    "import tweepy\n",
    "\n",
    "CONSUMER_KEY = 'xxxxxxxxxxxxxxxx'\n",
    "CONSUMER_SECRET = 'xxxxxxxxxxxxxxxx'\n",
    "ACCESS_TOKEN = 'xxxxxxxxxxxxxxxx'\n",
    "ACCESS_TOKEN_SECRET = 'xxxxxxxxx'\n",
    "\n",
    "class AgeDetector():\n",
    "    \n",
    "    def __init__(self):\n",
    "        auth = tweepy.OAuthHandler(CONSUMER_KEY, CONSUMER_SECRET)\n",
    "        auth.set_access_token(ACCESS_TOKEN, ACCESS_TOKEN_SECRET)\n",
    "        api = tweepy.API(auth)\n",
    "        \n",
    "    def get_age(self, name):\n",
    "\n",
    "        user = api.get_user(name)\n",
    "        ageTwitterAccount = user.created_at\n",
    "        \n",
    "    def is_over_limit(self, account_age, min_age, max_age):\n",
    "        if min_age <= account_age <= max_age:\n",
    "            return True\n",
    "        else:\n",
    "            return False\n",
    "        \n",
    "    "
   ]
  },
  {
   "cell_type": "code",
   "execution_count": 4,
   "metadata": {},
   "outputs": [],
   "source": [
    "from emotion_predictor import EmotionPredictor\n",
    "\n",
    "class BreakEmotionPredictor():\n",
    "    \n",
    "    def __init__(self):\n",
    "        model = EmotionPredictor(classification='ekman', setting='mc')\n",
    "        \n",
    "    def predict(tweets):\n",
    "        return model.predict_classes(tweets)\n",
    "    "
   ]
  },
  {
   "cell_type": "code",
   "execution_count": null,
   "metadata": {},
   "outputs": [],
   "source": [
    "import re\n",
    "\n",
    "class BreakReasonPredictor():\n",
    "    \n",
    "    PRIVACY_DEFINITION = 'privacy'\n",
    "    MISUSE_DEFINITION = 'data'\n",
    "    UNPRODUCTIVE_DEFINITION = 'unproductive'\n",
    "    BANALITY_DEFINITION = 'bored'\n",
    "    ADDICTION_DEFINITION = 'addict'\n",
    "    PRESSURE_DEFINITION = 'pressure'\n",
    "    \n",
    "    \n",
    "    def predict(tweets):\n",
    "        for tweet in tweets:\n",
    "            if :\n",
    "            else if :\n",
    "            else:\n",
    "                return\n",
    "            "
   ]
  }
 ],
 "metadata": {
  "kernelspec": {
   "display_name": "Python 3",
   "language": "python",
   "name": "python3"
  },
  "language_info": {
   "codemirror_mode": {
    "name": "ipython",
    "version": 3
   },
   "file_extension": ".py",
   "mimetype": "text/x-python",
   "name": "python",
   "nbconvert_exporter": "python",
   "pygments_lexer": "ipython3",
   "version": "3.7.3"
  }
 },
 "nbformat": 4,
 "nbformat_minor": 2
}
